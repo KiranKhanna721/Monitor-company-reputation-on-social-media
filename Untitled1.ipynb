{
 "cells": [
  {
   "cell_type": "code",
   "execution_count": 1,
   "id": "82c15ef4",
   "metadata": {},
   "outputs": [
    {
     "name": "stdout",
     "output_type": "stream",
     "text": [
      "Requirement already satisfied: expertai-nlapi in c:\\users\\hp\\anaconda3\\lib\\site-packages (2.4.1)"
     ]
    },
    {
     "name": "stderr",
     "output_type": "stream",
     "text": [
      "\n",
      "[notice] A new release of pip available: 22.2.2 -> 22.3\n",
      "[notice] To update, run: python.exe -m pip install --upgrade pip\n"
     ]
    },
    {
     "name": "stdout",
     "output_type": "stream",
     "text": [
      "\n",
      "Requirement already satisfied: requests in c:\\users\\hp\\anaconda3\\lib\\site-packages (from expertai-nlapi) (2.27.1)\n",
      "Requirement already satisfied: charset-normalizer~=2.0.0 in c:\\users\\hp\\anaconda3\\lib\\site-packages (from requests->expertai-nlapi) (2.0.4)\n",
      "Requirement already satisfied: urllib3<1.27,>=1.21.1 in c:\\users\\hp\\anaconda3\\lib\\site-packages (from requests->expertai-nlapi) (1.26.9)\n",
      "Requirement already satisfied: idna<4,>=2.5 in c:\\users\\hp\\anaconda3\\lib\\site-packages (from requests->expertai-nlapi) (3.3)\n",
      "Requirement already satisfied: certifi>=2017.4.17 in c:\\users\\hp\\anaconda3\\lib\\site-packages (from requests->expertai-nlapi) (2021.10.8)\n"
     ]
    }
   ],
   "source": [
    "!pip install -U expertai-nlapi"
   ]
  },
  {
   "cell_type": "code",
   "execution_count": 2,
   "id": "8129d733",
   "metadata": {},
   "outputs": [],
   "source": [
    "import pandas as pd\n",
    "import numpy as np\n",
    "import matplotlib.pyplot as plt\n",
    "from expertai.nlapi.cloud.client import ExpertAiClient\n",
    "import os"
   ]
  },
  {
   "cell_type": "code",
   "execution_count": 3,
   "id": "50d6cfba",
   "metadata": {},
   "outputs": [],
   "source": [
    "os.environ[\"EAI_USERNAME\"] = 'khkiran01@gmail.com'\n",
    "os.environ[\"EAI_PASSWORD\"] = 'Meera@1977'"
   ]
  },
  {
   "cell_type": "code",
   "execution_count": 4,
   "id": "4551eb4c",
   "metadata": {},
   "outputs": [],
   "source": [
    "client = ExpertAiClient()"
   ]
  },
  {
   "cell_type": "code",
   "execution_count": 5,
   "id": "d362fa87",
   "metadata": {},
   "outputs": [
    {
     "name": "stderr",
     "output_type": "stream",
     "text": [
      "[nltk_data] Downloading package words to\n",
      "[nltk_data]     C:\\Users\\HP\\AppData\\Roaming\\nltk_data...\n",
      "[nltk_data]   Package words is already up-to-date!\n"
     ]
    },
    {
     "data": {
      "text/plain": [
       "True"
      ]
     },
     "execution_count": 5,
     "metadata": {},
     "output_type": "execute_result"
    }
   ],
   "source": [
    "import tweepy\n",
    "import re\n",
    "import emoji\n",
    "import nltk\n",
    "nltk.download('words')"
   ]
  },
  {
   "cell_type": "code",
   "execution_count": 6,
   "id": "e821805c",
   "metadata": {},
   "outputs": [],
   "source": [
    "my_bearer_token = \"AAAAAAAAAAAAAAAAAAAAADnKawEAAAAArzcTtXJOw1Jx05SYlL%2F4J5%2F6Zv0%3Die1sm7TPVHtksmylWglnbmKUVNVzf7cEYBzeHDjTvB9aUggCQT\""
   ]
  },
  {
   "cell_type": "code",
   "execution_count": 7,
   "id": "8f3e6610",
   "metadata": {},
   "outputs": [],
   "source": [
    "cli = tweepy.Client(bearer_token=my_bearer_token)"
   ]
  },
  {
   "cell_type": "code",
   "execution_count": 8,
   "id": "10f31aec",
   "metadata": {},
   "outputs": [],
   "source": [
    "response = cli.search_recent_tweets(\"#ford\",max_results=10)"
   ]
  },
  {
   "cell_type": "code",
   "execution_count": 9,
   "id": "4d812e84",
   "metadata": {},
   "outputs": [
    {
     "name": "stdout",
     "output_type": "stream",
     "text": [
      "10\n"
     ]
    }
   ],
   "source": [
    "tweets = response.data\n",
    "print(len(tweets))"
   ]
  },
  {
   "cell_type": "code",
   "execution_count": 10,
   "id": "03241175",
   "metadata": {},
   "outputs": [],
   "source": [
    "tweets_texts = []\n",
    "for tweet in tweets:  \n",
    "    tweets_texts.append(tweet.text)\n",
    "import pandas as pd\n",
    "df = pd.DataFrame(data =  tweets_texts, columns=[\"Tweets\"])"
   ]
  },
  {
   "cell_type": "code",
   "execution_count": 11,
   "id": "4cf78b94",
   "metadata": {},
   "outputs": [],
   "source": [
    "def sentiment_overall(client, text):\n",
    "    try:\n",
    "        input_text = str(text)[0:10000]  # limit the input size\n",
    "        document = client.specific_resource_analysis(\n",
    "        body={\"document\": {\"text\": input_text}}, \n",
    "        params={'language': 'en', 'resource': 'sentiment'\n",
    "       })\n",
    "        return document.sentiment.overall\n",
    "    except Exception as e: \n",
    "        print(str(e) +\": \" + str(text))"
   ]
  },
  {
   "cell_type": "code",
   "execution_count": 12,
   "id": "ffc73cb2",
   "metadata": {},
   "outputs": [],
   "source": [
    "words = set(nltk.corpus.words.words())"
   ]
  },
  {
   "cell_type": "code",
   "execution_count": 13,
   "id": "8940bd93",
   "metadata": {},
   "outputs": [],
   "source": [
    "def cleaner(tweet):\n",
    "    tweet = re.sub(\"@[A-Za-z0-9]+\",\"\",tweet) #Remove @ sign\n",
    "    tweet = re.sub(r\"(?:\\@|http?\\://|https?\\://|www)\\S+\", \"\", tweet) #Remove http links\n",
    "    tweet = \" \".join(tweet.split())\n",
    "    tweet = ''.join(c for c in tweet if c not in emoji.distinct_emoji_list(c)) #Remove Emojis\n",
    "    tweet = tweet.replace(\"#\", \"\").replace(\"_\", \" \") #Remove hashtag sign but keep the text\n",
    "    tweet  = tweet.replace(\"\\n\",\" \")\n",
    "    tweet = re.sub(r'[^\\w\\s]', '', tweet)\n",
    "    tweet = \" \".join(w for w in nltk.wordpunct_tokenize(tweet)\n",
    "                     if w.lower() in words or not w.isalpha())\n",
    "    return tweet"
   ]
  },
  {
   "cell_type": "code",
   "execution_count": 14,
   "id": "657c8d56",
   "metadata": {},
   "outputs": [],
   "source": [
    "df['text'] = df['Tweets'].map(lambda x: cleaner(x))"
   ]
  },
  {
   "cell_type": "code",
   "execution_count": 17,
   "id": "d32b69e8",
   "metadata": {},
   "outputs": [
    {
     "data": {
      "text/html": [
       "<div>\n",
       "<style scoped>\n",
       "    .dataframe tbody tr th:only-of-type {\n",
       "        vertical-align: middle;\n",
       "    }\n",
       "\n",
       "    .dataframe tbody tr th {\n",
       "        vertical-align: top;\n",
       "    }\n",
       "\n",
       "    .dataframe thead th {\n",
       "        text-align: right;\n",
       "    }\n",
       "</style>\n",
       "<table border=\"1\" class=\"dataframe\">\n",
       "  <thead>\n",
       "    <tr style=\"text-align: right;\">\n",
       "      <th></th>\n",
       "      <th>Tweets</th>\n",
       "      <th>text</th>\n",
       "      <th>overall</th>\n",
       "    </tr>\n",
       "  </thead>\n",
       "  <tbody>\n",
       "    <tr>\n",
       "      <th>0</th>\n",
       "      <td>@FordLenoir has had my niece’s car for a month...</td>\n",
       "      <td>had my car for a month now She bought their ex...</td>\n",
       "      <td>5.09</td>\n",
       "    </tr>\n",
       "    <tr>\n",
       "      <th>1</th>\n",
       "      <td>Ford: Visitors are discussing potential and/or...</td>\n",
       "      <td>Ford are potential actual at Ford See the disc...</td>\n",
       "      <td>-24.70</td>\n",
       "    </tr>\n",
       "    <tr>\n",
       "      <th>2</th>\n",
       "      <td>Ford said on Wednesday it was exiting Russia, ...</td>\n",
       "      <td>Ford said on it was Russia following announcem...</td>\n",
       "      <td>2.50</td>\n",
       "    </tr>\n",
       "    <tr>\n",
       "      <th>3</th>\n",
       "      <td>Self-glossed Chief Twit #ELONMUSK carried a si...</td>\n",
       "      <td>Chief Twit carried a sink into Twitter Said Mu...</td>\n",
       "      <td>-3.40</td>\n",
       "    </tr>\n",
       "    <tr>\n",
       "      <th>4</th>\n",
       "      <td>RT @SpirosMargaris: Argo AI, #driverless #star...</td>\n",
       "      <td>Argo AI driverless backed by Ford and is i</td>\n",
       "      <td>6.40</td>\n",
       "    </tr>\n",
       "  </tbody>\n",
       "</table>\n",
       "</div>"
      ],
      "text/plain": [
       "                                              Tweets  \\\n",
       "0  @FordLenoir has had my niece’s car for a month...   \n",
       "1  Ford: Visitors are discussing potential and/or...   \n",
       "2  Ford said on Wednesday it was exiting Russia, ...   \n",
       "3  Self-glossed Chief Twit #ELONMUSK carried a si...   \n",
       "4  RT @SpirosMargaris: Argo AI, #driverless #star...   \n",
       "\n",
       "                                                text  overall  \n",
       "0  had my car for a month now She bought their ex...     5.09  \n",
       "1  Ford are potential actual at Ford See the disc...   -24.70  \n",
       "2  Ford said on it was Russia following announcem...     2.50  \n",
       "3  Chief Twit carried a sink into Twitter Said Mu...    -3.40  \n",
       "4         Argo AI driverless backed by Ford and is i     6.40  "
      ]
     },
     "execution_count": 17,
     "metadata": {},
     "output_type": "execute_result"
    }
   ],
   "source": [
    "df['overall'] = df['text'].apply(lambda text: sentiment_overall(client,text))\n",
    "\n",
    "df.head()"
   ]
  },
  {
   "cell_type": "code",
   "execution_count": 18,
   "id": "f34f082e",
   "metadata": {},
   "outputs": [],
   "source": [
    "df['overall_score'] = df['overall'].apply(lambda c: 'pos' if c >=0 else 'neg')"
   ]
  },
  {
   "cell_type": "code",
   "execution_count": 19,
   "id": "2eaff051",
   "metadata": {},
   "outputs": [
    {
     "data": {
      "text/html": [
       "<div>\n",
       "<style scoped>\n",
       "    .dataframe tbody tr th:only-of-type {\n",
       "        vertical-align: middle;\n",
       "    }\n",
       "\n",
       "    .dataframe tbody tr th {\n",
       "        vertical-align: top;\n",
       "    }\n",
       "\n",
       "    .dataframe thead th {\n",
       "        text-align: right;\n",
       "    }\n",
       "</style>\n",
       "<table border=\"1\" class=\"dataframe\">\n",
       "  <thead>\n",
       "    <tr style=\"text-align: right;\">\n",
       "      <th></th>\n",
       "      <th>Tweets</th>\n",
       "      <th>text</th>\n",
       "      <th>overall</th>\n",
       "      <th>overall_score</th>\n",
       "    </tr>\n",
       "  </thead>\n",
       "  <tbody>\n",
       "    <tr>\n",
       "      <th>0</th>\n",
       "      <td>@FordLenoir has had my niece’s car for a month...</td>\n",
       "      <td>had my car for a month now She bought their ex...</td>\n",
       "      <td>5.09</td>\n",
       "      <td>pos</td>\n",
       "    </tr>\n",
       "    <tr>\n",
       "      <th>1</th>\n",
       "      <td>Ford: Visitors are discussing potential and/or...</td>\n",
       "      <td>Ford are potential actual at Ford See the disc...</td>\n",
       "      <td>-24.70</td>\n",
       "      <td>neg</td>\n",
       "    </tr>\n",
       "    <tr>\n",
       "      <th>2</th>\n",
       "      <td>Ford said on Wednesday it was exiting Russia, ...</td>\n",
       "      <td>Ford said on it was Russia following announcem...</td>\n",
       "      <td>2.50</td>\n",
       "      <td>pos</td>\n",
       "    </tr>\n",
       "    <tr>\n",
       "      <th>3</th>\n",
       "      <td>Self-glossed Chief Twit #ELONMUSK carried a si...</td>\n",
       "      <td>Chief Twit carried a sink into Twitter Said Mu...</td>\n",
       "      <td>-3.40</td>\n",
       "      <td>neg</td>\n",
       "    </tr>\n",
       "    <tr>\n",
       "      <th>4</th>\n",
       "      <td>RT @SpirosMargaris: Argo AI, #driverless #star...</td>\n",
       "      <td>Argo AI driverless backed by Ford and is i</td>\n",
       "      <td>6.40</td>\n",
       "      <td>pos</td>\n",
       "    </tr>\n",
       "    <tr>\n",
       "      <th>5</th>\n",
       "      <td>RT @guidaautonoma: #Ford, #Volkswagen -backed ...</td>\n",
       "      <td>Ford backed Argo AI is shutting down AI 5G</td>\n",
       "      <td>0.00</td>\n",
       "      <td>pos</td>\n",
       "    </tr>\n",
       "    <tr>\n",
       "      <th>6</th>\n",
       "      <td>https://t.co/Fz8QRck2jR\\nFord\\nGoodbye Argo AI...</td>\n",
       "      <td>Ford Argo AI F ford michigan recession layoff</td>\n",
       "      <td>-61.59</td>\n",
       "      <td>neg</td>\n",
       "    </tr>\n",
       "    <tr>\n",
       "      <th>7</th>\n",
       "      <td>https://t.co/ooVnS7DeYj\\nFord\\nYounger vs Olde...</td>\n",
       "      <td>Ford Younger Older F ford michigan recession l...</td>\n",
       "      <td>-61.59</td>\n",
       "      <td>neg</td>\n",
       "    </tr>\n",
       "    <tr>\n",
       "      <th>8</th>\n",
       "      <td>Ford released it's Q3 earnings, beating automo...</td>\n",
       "      <td>Ford its Q3 earnings beating automotive revenu...</td>\n",
       "      <td>10.39</td>\n",
       "      <td>pos</td>\n",
       "    </tr>\n",
       "    <tr>\n",
       "      <th>9</th>\n",
       "      <td>#Ford inks MoUs for low carbon #steel\\n https:...</td>\n",
       "      <td>Ford inks for low carbon steel</td>\n",
       "      <td>0.00</td>\n",
       "      <td>pos</td>\n",
       "    </tr>\n",
       "  </tbody>\n",
       "</table>\n",
       "</div>"
      ],
      "text/plain": [
       "                                              Tweets  \\\n",
       "0  @FordLenoir has had my niece’s car for a month...   \n",
       "1  Ford: Visitors are discussing potential and/or...   \n",
       "2  Ford said on Wednesday it was exiting Russia, ...   \n",
       "3  Self-glossed Chief Twit #ELONMUSK carried a si...   \n",
       "4  RT @SpirosMargaris: Argo AI, #driverless #star...   \n",
       "5  RT @guidaautonoma: #Ford, #Volkswagen -backed ...   \n",
       "6  https://t.co/Fz8QRck2jR\\nFord\\nGoodbye Argo AI...   \n",
       "7  https://t.co/ooVnS7DeYj\\nFord\\nYounger vs Olde...   \n",
       "8  Ford released it's Q3 earnings, beating automo...   \n",
       "9  #Ford inks MoUs for low carbon #steel\\n https:...   \n",
       "\n",
       "                                                text  overall overall_score  \n",
       "0  had my car for a month now She bought their ex...     5.09           pos  \n",
       "1  Ford are potential actual at Ford See the disc...   -24.70           neg  \n",
       "2  Ford said on it was Russia following announcem...     2.50           pos  \n",
       "3  Chief Twit carried a sink into Twitter Said Mu...    -3.40           neg  \n",
       "4         Argo AI driverless backed by Ford and is i     6.40           pos  \n",
       "5         Ford backed Argo AI is shutting down AI 5G     0.00           pos  \n",
       "6      Ford Argo AI F ford michigan recession layoff   -61.59           neg  \n",
       "7  Ford Younger Older F ford michigan recession l...   -61.59           neg  \n",
       "8  Ford its Q3 earnings beating automotive revenu...    10.39           pos  \n",
       "9                     Ford inks for low carbon steel     0.00           pos  "
      ]
     },
     "execution_count": 19,
     "metadata": {},
     "output_type": "execute_result"
    }
   ],
   "source": [
    "df"
   ]
  },
  {
   "cell_type": "code",
   "execution_count": 20,
   "id": "ff87622d",
   "metadata": {},
   "outputs": [],
   "source": [
    "def percentage(part,whole):\n",
    "    return 100 * float(part)/float(whole)"
   ]
  },
  {
   "cell_type": "code",
   "execution_count": 23,
   "id": "99e2471d",
   "metadata": {},
   "outputs": [],
   "source": [
    "p=0\n",
    "ne=0\n",
    "for n in df['overall_score']:\n",
    "    if n =='pos':\n",
    "        p+=1\n",
    "    else:\n",
    "        ne+=1"
   ]
  },
  {
   "cell_type": "code",
   "execution_count": 24,
   "id": "5a5df51c",
   "metadata": {},
   "outputs": [],
   "source": [
    "positive = percentage(p, 10)\n",
    "negative = percentage(ne,10)"
   ]
  },
  {
   "cell_type": "code",
   "execution_count": 26,
   "id": "ba6c4e8c",
   "metadata": {},
   "outputs": [],
   "source": [
    "positive = format(positive, '.1f')\n",
    "negative = format(negative, '.1f')"
   ]
  },
  {
   "cell_type": "code",
   "execution_count": 27,
   "id": "1e213f69",
   "metadata": {},
   "outputs": [
    {
     "data": {
      "text/plain": [
       "'60.0'"
      ]
     },
     "execution_count": 27,
     "metadata": {},
     "output_type": "execute_result"
    }
   ],
   "source": [
    "positive"
   ]
  },
  {
   "cell_type": "code",
   "execution_count": 28,
   "id": "9a645d6d",
   "metadata": {},
   "outputs": [
    {
     "data": {
      "text/plain": [
       "'40.0'"
      ]
     },
     "execution_count": 28,
     "metadata": {},
     "output_type": "execute_result"
    }
   ],
   "source": [
    "negative"
   ]
  },
  {
   "cell_type": "code",
   "execution_count": 32,
   "id": "2ea955fe",
   "metadata": {},
   "outputs": [],
   "source": [
    "def hate_speech(client,text):\n",
    "    detector = 'hate-speech'\n",
    "    language= 'en'\n",
    "    output = client.detection(body={\"document\": {\"text\": text}}, params={'detector': detector, 'language': language})\n",
    "    for category in output.categories:\n",
    "        return category.hierarchy"
   ]
  },
  {
   "cell_type": "code",
   "execution_count": 33,
   "id": "10e63074",
   "metadata": {},
   "outputs": [
    {
     "data": {
      "text/html": [
       "<div>\n",
       "<style scoped>\n",
       "    .dataframe tbody tr th:only-of-type {\n",
       "        vertical-align: middle;\n",
       "    }\n",
       "\n",
       "    .dataframe tbody tr th {\n",
       "        vertical-align: top;\n",
       "    }\n",
       "\n",
       "    .dataframe thead th {\n",
       "        text-align: right;\n",
       "    }\n",
       "</style>\n",
       "<table border=\"1\" class=\"dataframe\">\n",
       "  <thead>\n",
       "    <tr style=\"text-align: right;\">\n",
       "      <th></th>\n",
       "      <th>Tweets</th>\n",
       "      <th>text</th>\n",
       "      <th>overall</th>\n",
       "      <th>overall_score</th>\n",
       "      <th>hatespeech</th>\n",
       "    </tr>\n",
       "  </thead>\n",
       "  <tbody>\n",
       "    <tr>\n",
       "      <th>0</th>\n",
       "      <td>@FordLenoir has had my niece’s car for a month...</td>\n",
       "      <td>had my car for a month now She bought their ex...</td>\n",
       "      <td>5.09</td>\n",
       "      <td>pos</td>\n",
       "      <td>None</td>\n",
       "    </tr>\n",
       "    <tr>\n",
       "      <th>1</th>\n",
       "      <td>Ford: Visitors are discussing potential and/or...</td>\n",
       "      <td>Ford are potential actual at Ford See the disc...</td>\n",
       "      <td>-24.70</td>\n",
       "      <td>neg</td>\n",
       "      <td>None</td>\n",
       "    </tr>\n",
       "    <tr>\n",
       "      <th>2</th>\n",
       "      <td>Ford said on Wednesday it was exiting Russia, ...</td>\n",
       "      <td>Ford said on it was Russia following announcem...</td>\n",
       "      <td>2.50</td>\n",
       "      <td>pos</td>\n",
       "      <td>None</td>\n",
       "    </tr>\n",
       "    <tr>\n",
       "      <th>3</th>\n",
       "      <td>Self-glossed Chief Twit #ELONMUSK carried a si...</td>\n",
       "      <td>Chief Twit carried a sink into Twitter Said Mu...</td>\n",
       "      <td>-3.40</td>\n",
       "      <td>neg</td>\n",
       "      <td>[Personal Insult]</td>\n",
       "    </tr>\n",
       "    <tr>\n",
       "      <th>4</th>\n",
       "      <td>RT @SpirosMargaris: Argo AI, #driverless #star...</td>\n",
       "      <td>Argo AI driverless backed by Ford and is i</td>\n",
       "      <td>6.40</td>\n",
       "      <td>pos</td>\n",
       "      <td>None</td>\n",
       "    </tr>\n",
       "  </tbody>\n",
       "</table>\n",
       "</div>"
      ],
      "text/plain": [
       "                                              Tweets  \\\n",
       "0  @FordLenoir has had my niece’s car for a month...   \n",
       "1  Ford: Visitors are discussing potential and/or...   \n",
       "2  Ford said on Wednesday it was exiting Russia, ...   \n",
       "3  Self-glossed Chief Twit #ELONMUSK carried a si...   \n",
       "4  RT @SpirosMargaris: Argo AI, #driverless #star...   \n",
       "\n",
       "                                                text  overall overall_score  \\\n",
       "0  had my car for a month now She bought their ex...     5.09           pos   \n",
       "1  Ford are potential actual at Ford See the disc...   -24.70           neg   \n",
       "2  Ford said on it was Russia following announcem...     2.50           pos   \n",
       "3  Chief Twit carried a sink into Twitter Said Mu...    -3.40           neg   \n",
       "4         Argo AI driverless backed by Ford and is i     6.40           pos   \n",
       "\n",
       "          hatespeech  \n",
       "0               None  \n",
       "1               None  \n",
       "2               None  \n",
       "3  [Personal Insult]  \n",
       "4               None  "
      ]
     },
     "execution_count": 33,
     "metadata": {},
     "output_type": "execute_result"
    }
   ],
   "source": [
    "df['hatespeech'] = df['text'].apply(lambda text: hate_speech(client,text))\n",
    "\n",
    "df.head()"
   ]
  },
  {
   "cell_type": "code",
   "execution_count": 34,
   "id": "bdf6c52b",
   "metadata": {},
   "outputs": [],
   "source": [
    "a=[]\n",
    "for h in df['hatespeech']:\n",
    "    if h!=None:\n",
    "        a.append(h)"
   ]
  },
  {
   "cell_type": "code",
   "execution_count": 35,
   "id": "9784f108",
   "metadata": {},
   "outputs": [
    {
     "data": {
      "text/plain": [
       "[['Personal Insult']]"
      ]
     },
     "execution_count": 35,
     "metadata": {},
     "output_type": "execute_result"
    }
   ],
   "source": [
    "a"
   ]
  },
  {
   "cell_type": "code",
   "execution_count": 36,
   "id": "e0ab2b03",
   "metadata": {},
   "outputs": [],
   "source": [
    "def emotion(client,text):\n",
    "    taxonomy = 'emotional-traits'\n",
    "    language= 'en'\n",
    "    output = client.classification(body={\"document\": {\"text\": text}}, params={'taxonomy': taxonomy, 'language': language})\n",
    "    for category in output.categories:\n",
    "        return category.hierarchy"
   ]
  },
  {
   "cell_type": "code",
   "execution_count": 37,
   "id": "aec5e7c0",
   "metadata": {},
   "outputs": [
    {
     "data": {
      "text/html": [
       "<div>\n",
       "<style scoped>\n",
       "    .dataframe tbody tr th:only-of-type {\n",
       "        vertical-align: middle;\n",
       "    }\n",
       "\n",
       "    .dataframe tbody tr th {\n",
       "        vertical-align: top;\n",
       "    }\n",
       "\n",
       "    .dataframe thead th {\n",
       "        text-align: right;\n",
       "    }\n",
       "</style>\n",
       "<table border=\"1\" class=\"dataframe\">\n",
       "  <thead>\n",
       "    <tr style=\"text-align: right;\">\n",
       "      <th></th>\n",
       "      <th>Tweets</th>\n",
       "      <th>text</th>\n",
       "      <th>overall</th>\n",
       "      <th>overall_score</th>\n",
       "      <th>hatespeech</th>\n",
       "      <th>emotional</th>\n",
       "    </tr>\n",
       "  </thead>\n",
       "  <tbody>\n",
       "    <tr>\n",
       "      <th>0</th>\n",
       "      <td>@FordLenoir has had my niece’s car for a month...</td>\n",
       "      <td>had my car for a month now She bought their ex...</td>\n",
       "      <td>5.09</td>\n",
       "      <td>pos</td>\n",
       "      <td>None</td>\n",
       "      <td>None</td>\n",
       "    </tr>\n",
       "    <tr>\n",
       "      <th>1</th>\n",
       "      <td>Ford: Visitors are discussing potential and/or...</td>\n",
       "      <td>Ford are potential actual at Ford See the disc...</td>\n",
       "      <td>-24.70</td>\n",
       "      <td>neg</td>\n",
       "      <td>None</td>\n",
       "      <td>None</td>\n",
       "    </tr>\n",
       "    <tr>\n",
       "      <th>2</th>\n",
       "      <td>Ford said on Wednesday it was exiting Russia, ...</td>\n",
       "      <td>Ford said on it was Russia following announcem...</td>\n",
       "      <td>2.50</td>\n",
       "      <td>pos</td>\n",
       "      <td>None</td>\n",
       "      <td>None</td>\n",
       "    </tr>\n",
       "    <tr>\n",
       "      <th>3</th>\n",
       "      <td>Self-glossed Chief Twit #ELONMUSK carried a si...</td>\n",
       "      <td>Chief Twit carried a sink into Twitter Said Mu...</td>\n",
       "      <td>-3.40</td>\n",
       "      <td>neg</td>\n",
       "      <td>[Personal Insult]</td>\n",
       "      <td>None</td>\n",
       "    </tr>\n",
       "    <tr>\n",
       "      <th>4</th>\n",
       "      <td>RT @SpirosMargaris: Argo AI, #driverless #star...</td>\n",
       "      <td>Argo AI driverless backed by Ford and is i</td>\n",
       "      <td>6.40</td>\n",
       "      <td>pos</td>\n",
       "      <td>None</td>\n",
       "      <td>None</td>\n",
       "    </tr>\n",
       "  </tbody>\n",
       "</table>\n",
       "</div>"
      ],
      "text/plain": [
       "                                              Tweets  \\\n",
       "0  @FordLenoir has had my niece’s car for a month...   \n",
       "1  Ford: Visitors are discussing potential and/or...   \n",
       "2  Ford said on Wednesday it was exiting Russia, ...   \n",
       "3  Self-glossed Chief Twit #ELONMUSK carried a si...   \n",
       "4  RT @SpirosMargaris: Argo AI, #driverless #star...   \n",
       "\n",
       "                                                text  overall overall_score  \\\n",
       "0  had my car for a month now She bought their ex...     5.09           pos   \n",
       "1  Ford are potential actual at Ford See the disc...   -24.70           neg   \n",
       "2  Ford said on it was Russia following announcem...     2.50           pos   \n",
       "3  Chief Twit carried a sink into Twitter Said Mu...    -3.40           neg   \n",
       "4         Argo AI driverless backed by Ford and is i     6.40           pos   \n",
       "\n",
       "          hatespeech emotional  \n",
       "0               None      None  \n",
       "1               None      None  \n",
       "2               None      None  \n",
       "3  [Personal Insult]      None  \n",
       "4               None      None  "
      ]
     },
     "execution_count": 37,
     "metadata": {},
     "output_type": "execute_result"
    }
   ],
   "source": [
    "df['emotional'] = df['text'].apply(lambda text: emotion(client,text))\n",
    "\n",
    "df.head()"
   ]
  },
  {
   "cell_type": "code",
   "execution_count": 38,
   "id": "f9abf104",
   "metadata": {},
   "outputs": [],
   "source": [
    "b=[]\n",
    "for e in df['emotional']:\n",
    "    if e!=None:\n",
    "        b.append(e)"
   ]
  },
  {
   "cell_type": "code",
   "execution_count": null,
   "id": "ea9b1e02",
   "metadata": {},
   "outputs": [],
   "source": []
  },
  {
   "cell_type": "code",
   "execution_count": null,
   "id": "a1b593da",
   "metadata": {},
   "outputs": [],
   "source": []
  }
 ],
 "metadata": {
  "kernelspec": {
   "display_name": "Python 3 (ipykernel)",
   "language": "python",
   "name": "python3"
  },
  "language_info": {
   "codemirror_mode": {
    "name": "ipython",
    "version": 3
   },
   "file_extension": ".py",
   "mimetype": "text/x-python",
   "name": "python",
   "nbconvert_exporter": "python",
   "pygments_lexer": "ipython3",
   "version": "3.9.12"
  }
 },
 "nbformat": 4,
 "nbformat_minor": 5
}
